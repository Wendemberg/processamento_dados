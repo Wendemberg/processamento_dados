{
 "cells": [
  {
   "cell_type": "markdown",
   "id": "05c5a579",
   "metadata": {},
   "source": [
    "## Trabalho Final de Disciplica - Introdução a Processamento de Dados\n",
    "\n",
    "#### Turma: Engenharia de Dados - Turma 02\n",
    "#### Nome Completo:\n",
    "#### Matrícula:\n",
    "\n"
   ]
  },
  {
   "cell_type": "markdown",
   "id": "d720687d",
   "metadata": {},
   "source": [
    "#### ---------------------------------------------------------------------------------------------------------------------------------------------"
   ]
  },
  {
   "cell_type": "markdown",
   "id": "dd6b0f2e",
   "metadata": {},
   "source": [
    "### Instruções:\n",
    "##### O objetivo deste trabalho é processar os dados do Enem 2023, salvar os resultados em um banco de dados PostgreSQL, consultar esses dados utilizando Pandas (Python) e responder a um conjunto de perguntas analíticas.\n",
    "#### Passos para Execução\n",
    "\n",
    "1. Download dos Dados\n",
    "Baixe o arquivo de microdados do Enem 2023 no link abaixo:\n",
    "\n",
    "[Microdados Enem 2023 - INEP](https://www.gov.br/inep/pt-br/acesso-a-informacao/dados-abertos/microdados/enem)\n",
    "\n",
    "Utilize o dicionário de dados disponível no site para entender o significado de cada coluna.\n",
    "\n",
    "2. Processamento dos Dados\n",
    "Realize o tratamento necessário nos dados, como:\n",
    "\n",
    "Limpeza (remoção de valores ausentes ou inconsistentes)\n",
    "\n",
    "Seleção de colunas relevantes\n",
    "\n",
    "Conversão de tipos de dados, se necessário\n",
    "\n",
    "Descreva brevemente os principais tratamentos realizados.\n",
    "\n",
    "3. Armazenamento no Banco de Dados\n",
    "Salve os dados tratados em um banco de dados PostgreSQL.\n",
    "\n",
    "Documente:\n",
    "\n",
    "O nome do banco de dados e das tabelas utilizadas\n",
    "\n",
    "O método/ferramenta utilizada para realizar a carga (por exemplo: script Python, Pandas, PgAdmin, etc.)\n",
    "\n",
    "4. Consulta e Análise com Pandas\n",
    "Utilize a biblioteca Pandas (Python) para consultar os dados diretamente do banco de dados.\n",
    "\n",
    "Responda às perguntas analíticas fornecidas utilizando funções do Pandas.\n",
    "\n",
    "Apresente as respostas juntamente com o código utilizado para obtê-las.\n",
    "\n"
   ]
  },
  {
   "cell_type": "markdown",
   "id": "335bcc1c",
   "metadata": {},
   "source": [
    "## ====================================================="
   ]
  },
  {
   "cell_type": "markdown",
   "id": "37a77345",
   "metadata": {},
   "source": [
    "#### Import csv"
   ]
  },
  {
   "cell_type": "code",
   "execution_count": 53,
   "id": "a899df31",
   "metadata": {},
   "outputs": [],
   "source": [
    "import pandas as pd\n",
    "import numpy as np\n",
    "\n",
    "\n",
    "import sys\n",
    "import warnings\n",
    "if not sys.warnoptions:\n",
    "    warnings.simplefilter(\"ignore\")"
   ]
  },
  {
   "cell_type": "code",
   "execution_count": 54,
   "id": "17234e35",
   "metadata": {},
   "outputs": [],
   "source": [
    "colunas = ['TP_PRESENCA_MT', 'TP_STATUS_REDACAO', 'TP_FAIXA_ETARIA', 'NU_NOTA_MT', 'NU_NOTA_REDACAO', 'TP_SEXO', \n",
    "           'TP_ESCOLA', 'Q001', 'Q002', 'Q006']\n",
    "\n",
    "dados_enem = pd.read_csv(\"enem_2023/DADOS/MICRODADOS_ENEM_2023.csv\", sep=\";\", encoding=\"latin1\", usecols=colunas, nrows=5000)"
   ]
  },
  {
   "cell_type": "markdown",
   "id": "8dbd2b2e",
   "metadata": {},
   "source": [
    "### Tratamento dos dados"
   ]
  },
  {
   "cell_type": "code",
   "execution_count": 55,
   "id": "0b2eddde",
   "metadata": {},
   "outputs": [
    {
     "data": {
      "text/html": [
       "<div>\n",
       "<style scoped>\n",
       "    .dataframe tbody tr th:only-of-type {\n",
       "        vertical-align: middle;\n",
       "    }\n",
       "\n",
       "    .dataframe tbody tr th {\n",
       "        vertical-align: top;\n",
       "    }\n",
       "\n",
       "    .dataframe thead th {\n",
       "        text-align: right;\n",
       "    }\n",
       "</style>\n",
       "<table border=\"1\" class=\"dataframe\">\n",
       "  <thead>\n",
       "    <tr style=\"text-align: right;\">\n",
       "      <th></th>\n",
       "      <th>TP_FAIXA_ETARIA</th>\n",
       "      <th>TP_SEXO</th>\n",
       "      <th>TP_ESCOLA</th>\n",
       "      <th>TP_PRESENCA_MT</th>\n",
       "      <th>NU_NOTA_MT</th>\n",
       "      <th>TP_STATUS_REDACAO</th>\n",
       "      <th>NU_NOTA_REDACAO</th>\n",
       "      <th>Q001</th>\n",
       "      <th>Q002</th>\n",
       "      <th>Q006</th>\n",
       "    </tr>\n",
       "  </thead>\n",
       "  <tbody>\n",
       "    <tr>\n",
       "      <th>0</th>\n",
       "      <td>14</td>\n",
       "      <td>M</td>\n",
       "      <td>1</td>\n",
       "      <td>0</td>\n",
       "      <td>NaN</td>\n",
       "      <td>NaN</td>\n",
       "      <td>NaN</td>\n",
       "      <td>A</td>\n",
       "      <td>F</td>\n",
       "      <td>F</td>\n",
       "    </tr>\n",
       "    <tr>\n",
       "      <th>1</th>\n",
       "      <td>12</td>\n",
       "      <td>M</td>\n",
       "      <td>1</td>\n",
       "      <td>0</td>\n",
       "      <td>NaN</td>\n",
       "      <td>NaN</td>\n",
       "      <td>NaN</td>\n",
       "      <td>F</td>\n",
       "      <td>E</td>\n",
       "      <td>H</td>\n",
       "    </tr>\n",
       "    <tr>\n",
       "      <th>2</th>\n",
       "      <td>6</td>\n",
       "      <td>F</td>\n",
       "      <td>1</td>\n",
       "      <td>1</td>\n",
       "      <td>363.2</td>\n",
       "      <td>1.0</td>\n",
       "      <td>700.0</td>\n",
       "      <td>H</td>\n",
       "      <td>E</td>\n",
       "      <td>C</td>\n",
       "    </tr>\n",
       "    <tr>\n",
       "      <th>3</th>\n",
       "      <td>2</td>\n",
       "      <td>F</td>\n",
       "      <td>2</td>\n",
       "      <td>1</td>\n",
       "      <td>466.7</td>\n",
       "      <td>1.0</td>\n",
       "      <td>880.0</td>\n",
       "      <td>D</td>\n",
       "      <td>D</td>\n",
       "      <td>C</td>\n",
       "    </tr>\n",
       "    <tr>\n",
       "      <th>4</th>\n",
       "      <td>3</td>\n",
       "      <td>F</td>\n",
       "      <td>2</td>\n",
       "      <td>1</td>\n",
       "      <td>338.3</td>\n",
       "      <td>1.0</td>\n",
       "      <td>560.0</td>\n",
       "      <td>B</td>\n",
       "      <td>B</td>\n",
       "      <td>B</td>\n",
       "    </tr>\n",
       "  </tbody>\n",
       "</table>\n",
       "</div>"
      ],
      "text/plain": [
       "   TP_FAIXA_ETARIA TP_SEXO  TP_ESCOLA  TP_PRESENCA_MT  NU_NOTA_MT  \\\n",
       "0               14       M          1               0         NaN   \n",
       "1               12       M          1               0         NaN   \n",
       "2                6       F          1               1       363.2   \n",
       "3                2       F          2               1       466.7   \n",
       "4                3       F          2               1       338.3   \n",
       "\n",
       "   TP_STATUS_REDACAO  NU_NOTA_REDACAO Q001 Q002 Q006  \n",
       "0                NaN              NaN    A    F    F  \n",
       "1                NaN              NaN    F    E    H  \n",
       "2                1.0            700.0    H    E    C  \n",
       "3                1.0            880.0    D    D    C  \n",
       "4                1.0            560.0    B    B    B  "
      ]
     },
     "execution_count": 55,
     "metadata": {},
     "output_type": "execute_result"
    }
   ],
   "source": [
    "dados_enem.head()"
   ]
  },
  {
   "cell_type": "code",
   "execution_count": 56,
   "id": "c7bc8a31",
   "metadata": {},
   "outputs": [
    {
     "data": {
      "text/plain": [
       "TP_FAIXA_ETARIA         0\n",
       "TP_SEXO                 0\n",
       "TP_ESCOLA               0\n",
       "TP_PRESENCA_MT          0\n",
       "NU_NOTA_MT           1391\n",
       "TP_STATUS_REDACAO    1244\n",
       "NU_NOTA_REDACAO      1244\n",
       "Q001                    0\n",
       "Q002                    0\n",
       "Q006                    0\n",
       "dtype: int64"
      ]
     },
     "execution_count": 56,
     "metadata": {},
     "output_type": "execute_result"
    }
   ],
   "source": [
    "dados_enem.isnull().sum()"
   ]
  },
  {
   "cell_type": "code",
   "execution_count": null,
   "id": "82c0e455",
   "metadata": {},
   "outputs": [],
   "source": [
    "\n",
    "\n"
   ]
  },
  {
   "cell_type": "code",
   "execution_count": null,
   "id": "86f95752",
   "metadata": {},
   "outputs": [
    {
     "data": {
      "text/html": [
       "<div>\n",
       "<style scoped>\n",
       "    .dataframe tbody tr th:only-of-type {\n",
       "        vertical-align: middle;\n",
       "    }\n",
       "\n",
       "    .dataframe tbody tr th {\n",
       "        vertical-align: top;\n",
       "    }\n",
       "\n",
       "    .dataframe thead th {\n",
       "        text-align: right;\n",
       "    }\n",
       "</style>\n",
       "<table border=\"1\" class=\"dataframe\">\n",
       "  <thead>\n",
       "    <tr style=\"text-align: right;\">\n",
       "      <th></th>\n",
       "      <th>TP_FAIXA_ETARIA</th>\n",
       "      <th>TP_SEXO</th>\n",
       "      <th>TP_ESCOLA</th>\n",
       "      <th>TP_PRESENCA_MT</th>\n",
       "      <th>NU_NOTA_MT</th>\n",
       "      <th>TP_STATUS_REDACAO</th>\n",
       "      <th>NU_NOTA_REDACAO</th>\n",
       "      <th>Q001</th>\n",
       "      <th>Q002</th>\n",
       "      <th>Q006</th>\n",
       "    </tr>\n",
       "  </thead>\n",
       "  <tbody>\n",
       "    <tr>\n",
       "      <th>0</th>\n",
       "      <td>14</td>\n",
       "      <td>M</td>\n",
       "      <td>1</td>\n",
       "      <td>0</td>\n",
       "      <td>NaN</td>\n",
       "      <td>NaN</td>\n",
       "      <td>NaN</td>\n",
       "      <td>A</td>\n",
       "      <td>F</td>\n",
       "      <td>F</td>\n",
       "    </tr>\n",
       "    <tr>\n",
       "      <th>1</th>\n",
       "      <td>12</td>\n",
       "      <td>M</td>\n",
       "      <td>1</td>\n",
       "      <td>0</td>\n",
       "      <td>NaN</td>\n",
       "      <td>NaN</td>\n",
       "      <td>NaN</td>\n",
       "      <td>F</td>\n",
       "      <td>E</td>\n",
       "      <td>H</td>\n",
       "    </tr>\n",
       "    <tr>\n",
       "      <th>2</th>\n",
       "      <td>6</td>\n",
       "      <td>F</td>\n",
       "      <td>1</td>\n",
       "      <td>1</td>\n",
       "      <td>363.2</td>\n",
       "      <td>1.0</td>\n",
       "      <td>700.0</td>\n",
       "      <td>H</td>\n",
       "      <td>E</td>\n",
       "      <td>C</td>\n",
       "    </tr>\n",
       "    <tr>\n",
       "      <th>3</th>\n",
       "      <td>2</td>\n",
       "      <td>F</td>\n",
       "      <td>2</td>\n",
       "      <td>1</td>\n",
       "      <td>466.7</td>\n",
       "      <td>1.0</td>\n",
       "      <td>880.0</td>\n",
       "      <td>D</td>\n",
       "      <td>D</td>\n",
       "      <td>C</td>\n",
       "    </tr>\n",
       "    <tr>\n",
       "      <th>4</th>\n",
       "      <td>3</td>\n",
       "      <td>F</td>\n",
       "      <td>2</td>\n",
       "      <td>1</td>\n",
       "      <td>338.3</td>\n",
       "      <td>1.0</td>\n",
       "      <td>560.0</td>\n",
       "      <td>B</td>\n",
       "      <td>B</td>\n",
       "      <td>B</td>\n",
       "    </tr>\n",
       "  </tbody>\n",
       "</table>\n",
       "</div>"
      ],
      "text/plain": [
       "   TP_FAIXA_ETARIA TP_SEXO  TP_ESCOLA  TP_PRESENCA_MT  NU_NOTA_MT  \\\n",
       "0               14       M          1               0         NaN   \n",
       "1               12       M          1               0         NaN   \n",
       "2                6       F          1               1       363.2   \n",
       "3                2       F          2               1       466.7   \n",
       "4                3       F          2               1       338.3   \n",
       "\n",
       "   TP_STATUS_REDACAO  NU_NOTA_REDACAO Q001 Q002 Q006  \n",
       "0                NaN              NaN    A    F    F  \n",
       "1                NaN              NaN    F    E    H  \n",
       "2                1.0            700.0    H    E    C  \n",
       "3                1.0            880.0    D    D    C  \n",
       "4                1.0            560.0    B    B    B  "
      ]
     },
     "execution_count": 57,
     "metadata": {},
     "output_type": "execute_result"
    }
   ],
   "source": []
  },
  {
   "cell_type": "code",
   "execution_count": 58,
   "id": "a09d9ff4",
   "metadata": {},
   "outputs": [],
   "source": [
    "sexo_map = {'M': 'Masculino', 'F': 'Feminino'}\n",
    "dados_enem['TP_SEXO'] = dados_enem['TP_SEXO'].map(sexo_map)\n"
   ]
  },
  {
   "cell_type": "code",
   "execution_count": 59,
   "id": "d3611822",
   "metadata": {},
   "outputs": [
    {
     "data": {
      "text/html": [
       "<div>\n",
       "<style scoped>\n",
       "    .dataframe tbody tr th:only-of-type {\n",
       "        vertical-align: middle;\n",
       "    }\n",
       "\n",
       "    .dataframe tbody tr th {\n",
       "        vertical-align: top;\n",
       "    }\n",
       "\n",
       "    .dataframe thead th {\n",
       "        text-align: right;\n",
       "    }\n",
       "</style>\n",
       "<table border=\"1\" class=\"dataframe\">\n",
       "  <thead>\n",
       "    <tr style=\"text-align: right;\">\n",
       "      <th></th>\n",
       "      <th>TP_FAIXA_ETARIA</th>\n",
       "      <th>TP_SEXO</th>\n",
       "      <th>TP_ESCOLA</th>\n",
       "      <th>TP_PRESENCA_MT</th>\n",
       "      <th>NU_NOTA_MT</th>\n",
       "      <th>TP_STATUS_REDACAO</th>\n",
       "      <th>NU_NOTA_REDACAO</th>\n",
       "      <th>Q001</th>\n",
       "      <th>Q002</th>\n",
       "      <th>Q006</th>\n",
       "    </tr>\n",
       "  </thead>\n",
       "  <tbody>\n",
       "    <tr>\n",
       "      <th>0</th>\n",
       "      <td>14</td>\n",
       "      <td>Masculino</td>\n",
       "      <td>1</td>\n",
       "      <td>0</td>\n",
       "      <td>NaN</td>\n",
       "      <td>NaN</td>\n",
       "      <td>NaN</td>\n",
       "      <td>A</td>\n",
       "      <td>F</td>\n",
       "      <td>F</td>\n",
       "    </tr>\n",
       "    <tr>\n",
       "      <th>1</th>\n",
       "      <td>12</td>\n",
       "      <td>Masculino</td>\n",
       "      <td>1</td>\n",
       "      <td>0</td>\n",
       "      <td>NaN</td>\n",
       "      <td>NaN</td>\n",
       "      <td>NaN</td>\n",
       "      <td>F</td>\n",
       "      <td>E</td>\n",
       "      <td>H</td>\n",
       "    </tr>\n",
       "    <tr>\n",
       "      <th>2</th>\n",
       "      <td>6</td>\n",
       "      <td>Feminino</td>\n",
       "      <td>1</td>\n",
       "      <td>1</td>\n",
       "      <td>363.2</td>\n",
       "      <td>1.0</td>\n",
       "      <td>700.0</td>\n",
       "      <td>H</td>\n",
       "      <td>E</td>\n",
       "      <td>C</td>\n",
       "    </tr>\n",
       "    <tr>\n",
       "      <th>3</th>\n",
       "      <td>2</td>\n",
       "      <td>Feminino</td>\n",
       "      <td>2</td>\n",
       "      <td>1</td>\n",
       "      <td>466.7</td>\n",
       "      <td>1.0</td>\n",
       "      <td>880.0</td>\n",
       "      <td>D</td>\n",
       "      <td>D</td>\n",
       "      <td>C</td>\n",
       "    </tr>\n",
       "    <tr>\n",
       "      <th>4</th>\n",
       "      <td>3</td>\n",
       "      <td>Feminino</td>\n",
       "      <td>2</td>\n",
       "      <td>1</td>\n",
       "      <td>338.3</td>\n",
       "      <td>1.0</td>\n",
       "      <td>560.0</td>\n",
       "      <td>B</td>\n",
       "      <td>B</td>\n",
       "      <td>B</td>\n",
       "    </tr>\n",
       "  </tbody>\n",
       "</table>\n",
       "</div>"
      ],
      "text/plain": [
       "   TP_FAIXA_ETARIA    TP_SEXO  TP_ESCOLA  TP_PRESENCA_MT  NU_NOTA_MT  \\\n",
       "0               14  Masculino          1               0         NaN   \n",
       "1               12  Masculino          1               0         NaN   \n",
       "2                6   Feminino          1               1       363.2   \n",
       "3                2   Feminino          2               1       466.7   \n",
       "4                3   Feminino          2               1       338.3   \n",
       "\n",
       "   TP_STATUS_REDACAO  NU_NOTA_REDACAO Q001 Q002 Q006  \n",
       "0                NaN              NaN    A    F    F  \n",
       "1                NaN              NaN    F    E    H  \n",
       "2                1.0            700.0    H    E    C  \n",
       "3                1.0            880.0    D    D    C  \n",
       "4                1.0            560.0    B    B    B  "
      ]
     },
     "execution_count": 59,
     "metadata": {},
     "output_type": "execute_result"
    }
   ],
   "source": [
    "dados_enem.head()"
   ]
  },
  {
   "cell_type": "code",
   "execution_count": 62,
   "id": "51a9731c",
   "metadata": {},
   "outputs": [],
   "source": [
    "dados_enem = dados_enem.rename(columns={\n",
    "    'Q001': 'ESCOLARIDADE_PAI',\n",
    "    'Q002': 'ESCOLARIDADE_MAE',\n",
    "    'Q006': 'RENDA_FAMILIAR'\n",
    "})"
   ]
  },
  {
   "cell_type": "code",
   "execution_count": 65,
   "id": "354a2073",
   "metadata": {},
   "outputs": [
    {
     "name": "stdout",
     "output_type": "stream",
     "text": [
      "<class 'pandas.core.frame.DataFrame'>\n",
      "RangeIndex: 5000 entries, 0 to 4999\n",
      "Data columns (total 10 columns):\n",
      " #   Column             Non-Null Count  Dtype  \n",
      "---  ------             --------------  -----  \n",
      " 0   TP_FAIXA_ETARIA    5000 non-null   int64  \n",
      " 1   TP_SEXO            5000 non-null   object \n",
      " 2   TP_ESCOLA          5000 non-null   int64  \n",
      " 3   TP_PRESENCA_MT     5000 non-null   int64  \n",
      " 4   NU_NOTA_MT         3609 non-null   float64\n",
      " 5   TP_STATUS_REDACAO  3756 non-null   float64\n",
      " 6   NU_NOTA_REDACAO    3756 non-null   float64\n",
      " 7   ESCOLARIDADE_PAI   5000 non-null   object \n",
      " 8   ESCOLARIDADE_MAE   5000 non-null   object \n",
      " 9   RENDA_FAMILIAR     5000 non-null   object \n",
      "dtypes: float64(3), int64(3), object(4)\n",
      "memory usage: 390.8+ KB\n"
     ]
    }
   ],
   "source": [
    "dados_enem.info()\n"
   ]
  },
  {
   "cell_type": "markdown",
   "id": "de1badba",
   "metadata": {},
   "source": [
    "### Insert no Banco de Dados"
   ]
  },
  {
   "cell_type": "code",
   "execution_count": null,
   "id": "645ff00b",
   "metadata": {},
   "outputs": [],
   "source": []
  },
  {
   "cell_type": "code",
   "execution_count": null,
   "id": "4251a489",
   "metadata": {},
   "outputs": [],
   "source": []
  },
  {
   "cell_type": "markdown",
   "id": "a46ac55d",
   "metadata": {},
   "source": [
    "### Recuperação dos dados usando Pandas"
   ]
  },
  {
   "cell_type": "code",
   "execution_count": null,
   "id": "3dd762a8",
   "metadata": {},
   "outputs": [],
   "source": []
  },
  {
   "cell_type": "code",
   "execution_count": null,
   "id": "df1b8a84",
   "metadata": {},
   "outputs": [],
   "source": []
  },
  {
   "cell_type": "markdown",
   "id": "cf027598",
   "metadata": {},
   "source": [
    "### Perguntas:"
   ]
  },
  {
   "cell_type": "markdown",
   "id": "d22ab069",
   "metadata": {},
   "source": [
    "#### 1 - Qual o percentual de faltas dos cantidatos na disciplina de Matemática e Redação?"
   ]
  },
  {
   "cell_type": "code",
   "execution_count": null,
   "id": "61f224b6",
   "metadata": {},
   "outputs": [],
   "source": []
  },
  {
   "cell_type": "code",
   "execution_count": null,
   "id": "004a5dc3",
   "metadata": {},
   "outputs": [],
   "source": []
  },
  {
   "cell_type": "markdown",
   "id": "6990f3c8",
   "metadata": {},
   "source": [
    "#### 2 - Se formos olhar para a distribuição das idades dos alunos, como estaria a distribuição dos alunos por faixas etárias?"
   ]
  },
  {
   "cell_type": "code",
   "execution_count": null,
   "id": "d1e4acfe",
   "metadata": {},
   "outputs": [],
   "source": []
  },
  {
   "cell_type": "code",
   "execution_count": null,
   "id": "7a84f834",
   "metadata": {},
   "outputs": [],
   "source": []
  },
  {
   "cell_type": "markdown",
   "id": "0d061bda",
   "metadata": {},
   "source": [
    "### 3 - Quem tem as melhores notas em matemática e redação, candidatos do sexo masculino ou feminino?"
   ]
  },
  {
   "cell_type": "code",
   "execution_count": null,
   "id": "69b7b6d7",
   "metadata": {},
   "outputs": [],
   "source": []
  },
  {
   "cell_type": "code",
   "execution_count": null,
   "id": "b799b930",
   "metadata": {},
   "outputs": [],
   "source": []
  },
  {
   "cell_type": "markdown",
   "id": "a76f59c2",
   "metadata": {},
   "source": [
    "### 4 - Há alguma influência no tipo da escola (publica e privada) nas notas de matemática e redação?"
   ]
  },
  {
   "cell_type": "code",
   "execution_count": null,
   "id": "112ad80a",
   "metadata": {},
   "outputs": [],
   "source": []
  },
  {
   "cell_type": "code",
   "execution_count": null,
   "id": "eec4ca75",
   "metadata": {},
   "outputs": [],
   "source": []
  },
  {
   "cell_type": "markdown",
   "id": "0d927b91",
   "metadata": {},
   "source": [
    "### 5 - Qual a influência da escolaridade do Pai nas notas de Matemática e Redação? "
   ]
  },
  {
   "cell_type": "code",
   "execution_count": null,
   "id": "3bf3b054",
   "metadata": {},
   "outputs": [],
   "source": []
  },
  {
   "cell_type": "code",
   "execution_count": null,
   "id": "cda0c85f",
   "metadata": {},
   "outputs": [],
   "source": []
  },
  {
   "cell_type": "markdown",
   "id": "b4dec7c6",
   "metadata": {},
   "source": [
    "### 6 - Qual a influência da escolaridade do Mãe nas notas de Matemática e Redação? "
   ]
  },
  {
   "cell_type": "code",
   "execution_count": null,
   "id": "0e9ab676",
   "metadata": {},
   "outputs": [],
   "source": []
  },
  {
   "cell_type": "code",
   "execution_count": null,
   "id": "139145cf",
   "metadata": {},
   "outputs": [],
   "source": []
  },
  {
   "cell_type": "markdown",
   "id": "7154ec25",
   "metadata": {},
   "source": [
    "### 5 - Qual a influência da renda do Pai e da Mãe nas notas de Matemática e Redação? "
   ]
  },
  {
   "cell_type": "code",
   "execution_count": null,
   "id": "c6642e9c",
   "metadata": {},
   "outputs": [],
   "source": []
  },
  {
   "cell_type": "code",
   "execution_count": null,
   "id": "db3816ab",
   "metadata": {},
   "outputs": [],
   "source": []
  }
 ],
 "metadata": {
  "kernelspec": {
   "display_name": ".venv",
   "language": "python",
   "name": "python3"
  },
  "language_info": {
   "codemirror_mode": {
    "name": "ipython",
    "version": 3
   },
   "file_extension": ".py",
   "mimetype": "text/x-python",
   "name": "python",
   "nbconvert_exporter": "python",
   "pygments_lexer": "ipython3",
   "version": "3.13.2"
  }
 },
 "nbformat": 4,
 "nbformat_minor": 5
}
